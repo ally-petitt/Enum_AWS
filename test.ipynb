{
 "cells": [
  {
   "cell_type": "code",
   "execution_count": 2,
   "metadata": {},
   "outputs": [],
   "source": [
    "from modules.enum_s3 import EnumS3\n",
    "import boto3"
   ]
  },
  {
   "cell_type": "code",
   "execution_count": 58,
   "metadata": {},
   "outputs": [
    {
     "name": "stdout",
     "output_type": "stream",
     "text": [
      "[]\n"
     ]
    }
   ],
   "source": [
    "import re\n",
    "# pattern = r\"/([^/]+).*?(?=/)\"\n",
    "pattern = r\"[^/]?./w\\./w?([^/]+)\"\n",
    "\n",
    "string = \"s3://test.test1.test2/asdf/aka\"\n",
    "result = re.findall(pattern, string)\n",
    "print(result)"
   ]
  },
  {
   "cell_type": "code",
   "execution_count": 60,
   "metadata": {},
   "outputs": [
    {
     "name": "stdout",
     "output_type": "stream",
     "text": [
      "['s3-us-west-2-w.amazonaws.com']\n"
     ]
    }
   ],
   "source": [
    "import re\n",
    "\n",
    "domain = \"s3-website-us-west-2.amazonaws.com\"\n",
    "domain2 = \"s3-us-west-2-w.amazonaws.com\"\n",
    "pattern = r\"^s3-.*?\\.amazonaws\\.com$\"\n",
    "# pattern = r\"s3-\\w+-\\w+-\\w+-+\\w+\\.amazonaws\\.com$\"\n",
    "# pattern = r\"\\w+-\\w+-[0-9]\"\n",
    "region = re.findall(pattern, domain2)\n",
    "print(region)"
   ]
  },
  {
   "cell_type": "code",
   "execution_count": 64,
   "metadata": {},
   "outputs": [
    {
     "name": "stdout",
     "output_type": "stream",
     "text": [
      ".git/objects/f5\n"
     ]
    }
   ],
   "source": [
    "folder = \".git/objects/f5/2ec03b227ea6094b04e43f475fb0126edb5a61\"\n",
    "path_list = folder.split(\"/\")\n",
    "directories = \"/\".join(path_list[0:len(path_list)-1])\n",
    "print(directories)"
   ]
  }
 ],
 "metadata": {
  "kernelspec": {
   "display_name": "venv",
   "language": "python",
   "name": "python3"
  },
  "language_info": {
   "codemirror_mode": {
    "name": "ipython",
    "version": 3
   },
   "file_extension": ".py",
   "mimetype": "text/x-python",
   "name": "python",
   "nbconvert_exporter": "python",
   "pygments_lexer": "ipython3",
   "version": "3.11.2"
  },
  "orig_nbformat": 4,
  "vscode": {
   "interpreter": {
    "hash": "e8370509240a5519cffda29ac75cb3fb5baa4d98bada86e305be36daefc00906"
   }
  }
 },
 "nbformat": 4,
 "nbformat_minor": 2
}
