{
 "cells": [
  {
   "cell_type": "code",
   "execution_count": 3,
   "metadata": {},
   "outputs": [],
   "source": [
    "from modules.enum_s3 import EnumS3\n",
    "import boto3, re"
   ]
  },
  {
   "cell_type": "code",
   "execution_count": 19,
   "metadata": {},
   "outputs": [
    {
     "name": "stdout",
     "output_type": "stream",
     "text": [
      "[]\n"
     ]
    }
   ],
   "source": [
    "import re\n",
    "# pattern = r\"/([^/]+).*?(?=/)\"\n",
    "pattern = r\"[^/]?./w\\./w?([^/]+)\"\n",
    "\n",
    "string = \"s3://test.test1.test2/asdf/aka\"\n",
    "result = re.findall(pattern, string)\n",
    "print(result)"
   ]
  },
  {
   "attachments": {},
   "cell_type": "markdown",
   "metadata": {},
   "source": [
    "## Get Region Regex"
   ]
  },
  {
   "cell_type": "code",
   "execution_count": 24,
   "metadata": {},
   "outputs": [
    {
     "name": "stdout",
     "output_type": "stream",
     "text": [
      "['ov-east-1']\n"
     ]
    }
   ],
   "source": [
    "import re\n",
    "\n",
    "domain = \"s3-website-us-west-2.amazonaws.com\"\n",
    "domain2 = \"s3-us-west-2-w.amazonaws.com\"\n",
    "domain3 = \"rds.us-gov-east-1.amazonaws.com\t\"\n",
    "# pattern = r\"^s3-.*?\\.amazonaws\\.com$\"\n",
    "# pattern = r\"s3-\\w+-\\w+-\\w+-+\\w+\\.amazonaws\\.com$\"\n",
    "pattern = r\"[a-z]{1,2}-[a-z]{1,9}-[0-9]\"\n",
    "region = re.findall(pattern, domain3)\n",
    "print(region)"
   ]
  },
  {
   "cell_type": "code",
   "execution_count": 64,
   "metadata": {},
   "outputs": [
    {
     "name": "stdout",
     "output_type": "stream",
     "text": [
      ".git/objects/f5\n"
     ]
    }
   ],
   "source": [
    "folder = \".git/objects/f5/2ec03b227ea6094b04e43f475fb0126edb5a61\"\n",
    "path_list = folder.split(\"/\")\n",
    "directories = \"/\".join(path_list[0:len(path_list)-1])\n",
    "print(directories)"
   ]
  },
  {
   "cell_type": "code",
   "execution_count": 6,
   "metadata": {},
   "outputs": [
    {
     "name": "stdout",
     "output_type": "stream",
     "text": [
      "^s3-.*?\\.amazonaws\\.com$\n",
      "True\n"
     ]
    }
   ],
   "source": [
    "import re\n",
    "pattern = r\"^{}-.*?\\.amazonaws\\.com$\"\n",
    "domain = \"s3-website-us-west-2.amazonaws.com\"\n",
    "print(pattern.format(\"s3\"))\n",
    "\n",
    "print(bool(re.search(pattern.format(\"s3\"), domain)))"
   ]
  },
  {
   "cell_type": "code",
   "execution_count": 9,
   "metadata": {},
   "outputs": [
    {
     "name": "stdout",
     "output_type": "stream",
     "text": [
      "True\n",
      "False\n"
     ]
    }
   ],
   "source": [
    "pattern = r\"^{}-.*?\\.amazonaws\\.com$\"\n",
    "types = [\"s3\", \"ec2\"]\n",
    "\n",
    "for instance_type in types:\n",
    "    isType = bool(re.search(pattern.format(instance_type), domain))\n",
    "    print(isType)\n",
    "    \n",
    "    \n"
   ]
  },
  {
   "cell_type": "code",
   "execution_count": 1,
   "metadata": {},
   "outputs": [
    {
     "name": "stdout",
     "output_type": "stream",
     "text": [
      "['domain', 'protocol', 'reverse_domain_name', 'type', 'region_name', '__module__', '__doc__', '__init__', 'enumerate_instance', 'find_instance_type', 'lookup_domain', 'check_protocol', 'extract_instance_type', 'get_region_name', '__dict__', '__weakref__', '__new__', '__repr__', '__hash__', '__str__', '__getattribute__', '__setattr__', '__delattr__', '__lt__', '__le__', '__eq__', '__ne__', '__gt__', '__ge__', '__reduce_ex__', '__reduce__', '__getstate__', '__subclasshook__', '__init_subclass__', '__format__', '__sizeof__', '__dir__', '__class__']\n"
     ]
    }
   ],
   "source": [
    "from modules import EnumInstance\n",
    "\n",
    "domain = \"http://level2-c8b217a33fcf1f839f6f1f73a00a9ae7.flaws.cloud/\"\n",
    "domain = \"http://level4-1156739cfb264ced6de514971a4bef68.flaws.cloud\"\n",
    "\n",
    "instance = EnumInstance(domain)\n",
    "\n",
    "print(instance.__dir__())"
   ]
  },
  {
   "cell_type": "code",
   "execution_count": 18,
   "metadata": {},
   "outputs": [
    {
     "name": "stdout",
     "output_type": "stream",
     "text": [
      "['a.test.test1']\n"
     ]
    }
   ],
   "source": [
    "domain = \"a.test.test1\"\n",
    "pattern = r\"^(?:[a-z0-9](?:[a-z0-9-]{0,61}[a-z0-9])?\\.)+[a-z0-9][a-z0-9-]{0,61}[a-z0-9]$\"\n",
    "\n",
    "res = re.findall(pattern, domain)\n",
    "\n",
    "print(res)"
   ]
  }
 ],
 "metadata": {
  "kernelspec": {
   "display_name": "venv",
   "language": "python",
   "name": "python3"
  },
  "language_info": {
   "codemirror_mode": {
    "name": "ipython",
    "version": 3
   },
   "file_extension": ".py",
   "mimetype": "text/x-python",
   "name": "python",
   "nbconvert_exporter": "python",
   "pygments_lexer": "ipython3",
   "version": "3.11.2"
  },
  "orig_nbformat": 4,
  "vscode": {
   "interpreter": {
    "hash": "e8370509240a5519cffda29ac75cb3fb5baa4d98bada86e305be36daefc00906"
   }
  }
 },
 "nbformat": 4,
 "nbformat_minor": 2
}
