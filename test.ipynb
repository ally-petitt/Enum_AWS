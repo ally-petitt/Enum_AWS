{
 "cells": [
  {
   "cell_type": "code",
   "execution_count": 2,
   "metadata": {},
   "outputs": [],
   "source": [
    "from modules.enum_s3 import EnumS3"
   ]
  },
  {
   "cell_type": "code",
   "execution_count": 3,
   "metadata": {},
   "outputs": [
    {
     "name": "stdout",
     "output_type": "stream",
     "text": [
      "Help on class EnumS3 in module modules.enum_s3:\n",
      "\n",
      "class EnumS3(builtins.object)\n",
      " |  EnumS3(domain: str) -> None\n",
      " |  \n",
      " |  Class that contains all the functions the enumerate AWS S3 Buckets\n",
      " |  \n",
      " |  ...\n",
      " |  \n",
      " |  Attributes\n",
      " |  ----------\n",
      " |  domain : str\n",
      " |      Initial domain name of the enumeration target\n",
      " |  domain_ip : str\n",
      " |      IP address of `domain` that was collected from a name server\n",
      " |  reverse_domain_name : str\n",
      " |  \n",
      " |  \n",
      " |  Methods\n",
      " |  -------\n",
      " |  lookup_domain()\n",
      " |      Look up the IP address associated with the domain name and do a reverse \n",
      " |      DNS lookup to populate the attributes domain_ip and reverse_domain_name\n",
      " |  check_bucket()\n",
      " |      Checks if the reverse_domain_name string is consistent with the naming\n",
      " |      conventions of an S3 bucket\n",
      " |  run_all_enum_checks()\n",
      " |      Runs all enumeration checks so that data can be collected as an attribute\n",
      " |  \n",
      " |  Methods defined here:\n",
      " |  \n",
      " |  __init__(self, domain: str) -> None\n",
      " |      Initialize self.  See help(type(self)) for accurate signature.\n",
      " |  \n",
      " |  check_bucket(self)\n",
      " |  \n",
      " |  lookup_domain(self)\n",
      " |  \n",
      " |  run_all_enum_checks(self) -> None\n",
      " |  \n",
      " |  ----------------------------------------------------------------------\n",
      " |  Data descriptors defined here:\n",
      " |  \n",
      " |  __dict__\n",
      " |      dictionary for instance variables (if defined)\n",
      " |  \n",
      " |  __weakref__\n",
      " |      list of weak references to the object (if defined)\n",
      "\n"
     ]
    }
   ],
   "source": [
    "help(EnumS3)"
   ]
  }
 ],
 "metadata": {
  "kernelspec": {
   "display_name": "venv",
   "language": "python",
   "name": "python3"
  },
  "language_info": {
   "codemirror_mode": {
    "name": "ipython",
    "version": 3
   },
   "file_extension": ".py",
   "mimetype": "text/x-python",
   "name": "python",
   "nbconvert_exporter": "python",
   "pygments_lexer": "ipython3",
   "version": "3.11.2"
  },
  "orig_nbformat": 4,
  "vscode": {
   "interpreter": {
    "hash": "e8370509240a5519cffda29ac75cb3fb5baa4d98bada86e305be36daefc00906"
   }
  }
 },
 "nbformat": 4,
 "nbformat_minor": 2
}
