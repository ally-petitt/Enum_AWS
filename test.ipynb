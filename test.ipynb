{
 "cells": [
  {
   "cell_type": "code",
   "execution_count": 1,
   "metadata": {},
   "outputs": [],
   "source": [
    "from modules.enum_s3 import EnumS3\n",
    "import boto3"
   ]
  },
  {
   "cell_type": "code",
   "execution_count": 16,
   "metadata": {},
   "outputs": [
    {
     "name": "stdout",
     "output_type": "stream",
     "text": [
      "us-west-2\n"
     ]
    }
   ],
   "source": [
    "import re\n",
    "\n",
    "domain = \"s3-website-us-west-2.amazonaws.com\"\n",
    "# pattern = r\"s3-website-(\\w+-)+\\w+\\.amazonaws\\.com$\"\n",
    "pattern = r\"(\\w+-)(\\w+-)[0-9]\"\n",
    "region = re.search(pattern, domain).group()\n",
    "print(region)"
   ]
  }
 ],
 "metadata": {
  "kernelspec": {
   "display_name": "venv",
   "language": "python",
   "name": "python3"
  },
  "language_info": {
   "codemirror_mode": {
    "name": "ipython",
    "version": 3
   },
   "file_extension": ".py",
   "mimetype": "text/x-python",
   "name": "python",
   "nbconvert_exporter": "python",
   "pygments_lexer": "ipython3",
   "version": "3.11.2"
  },
  "orig_nbformat": 4,
  "vscode": {
   "interpreter": {
    "hash": "e8370509240a5519cffda29ac75cb3fb5baa4d98bada86e305be36daefc00906"
   }
  }
 },
 "nbformat": 4,
 "nbformat_minor": 2
}
